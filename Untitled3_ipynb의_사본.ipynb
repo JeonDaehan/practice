{
  "nbformat": 4,
  "nbformat_minor": 0,
  "metadata": {
    "colab": {
      "provenance": [],
      "authorship_tag": "ABX9TyOi0IS+WcQHsY/7uWwolhUy",
      "include_colab_link": true
    },
    "kernelspec": {
      "name": "python3",
      "display_name": "Python 3"
    },
    "language_info": {
      "name": "python"
    },
    "accelerator": "GPU",
    "gpuClass": "standard"
  },
  "cells": [
    {
      "cell_type": "markdown",
      "metadata": {
        "id": "view-in-github",
        "colab_type": "text"
      },
      "source": [
        "<a href=\"https://colab.research.google.com/github/JeonDaehan/practice/blob/master/Untitled3_ipynb%EC%9D%98_%EC%82%AC%EB%B3%B8.ipynb\" target=\"_parent\"><img src=\"https://colab.research.google.com/assets/colab-badge.svg\" alt=\"Open In Colab\"/></a>"
      ]
    },
    {
      "cell_type": "code",
      "execution_count": null,
      "metadata": {
        "id": "TR1GpfY9ZqH0"
      },
      "outputs": [],
      "source": [
        "import numpy as np\n",
        "import pandas as pd\n",
        "import matplotlib.pyplot as plt\n",
        "import seaborn as sns\n",
        "\n",
        "import tensorflow as tf\n",
        "from tensorflow.keras.models import Sequential\n",
        "from tensorflow.keras.layers import Dense, Flatten, Input, concatenate, Dropout\n",
        "from tensorflow.keras.layers import Conv2D, MaxPool2D\n",
        "from tensorflow.keras.optimizers import SGD, Adam, RMSprop\n",
        "from tensorflow.keras.utils import to_categorical\n",
        "\n",
        "from datetime import datetime\n",
        "import os\n",
        "import glob\n",
        "import shutil\n",
        "import random\n",
        "import cv2\n",
        "from google.colab import drive"
      ]
    },
    {
      "cell_type": "code",
      "source": [
        "# 구글 드라이브와 연동하기\n",
        "drive.mount(\"/content/gdrive/\")\n",
        "\n"
      ],
      "metadata": {
        "colab": {
          "base_uri": "https://localhost:8080/"
        },
        "id": "4HfWum-0ZrJd",
        "outputId": "c7d4733b-207e-4d86-8757-96c52f00ecf1"
      },
      "execution_count": null,
      "outputs": [
        {
          "output_type": "stream",
          "name": "stdout",
          "text": [
            "Mounted at /content/gdrive/\n"
          ]
        }
      ]
    },
    {
      "cell_type": "code",
      "source": [
        "# 기존 파일 삭제하기\n",
        "if os.path.exists(\"/content/gdrive/MyDrive/Colab Notebooks/surface_crack\"):  \n",
        "    shutil.rmtree(\"/content/gdrive/MyDrive/Colab Notebooks/surface_crack\")\n",
        "    print(\"surface_crack is deleted!\")"
      ],
      "metadata": {
        "colab": {
          "base_uri": "https://localhost:8080/"
        },
        "id": "-Y_YKf98dmVW",
        "outputId": "27b7d008-ed5d-439a-eece-858db441b752"
      },
      "execution_count": null,
      "outputs": [
        {
          "output_type": "stream",
          "name": "stdout",
          "text": [
            "surface_crack is deleted!\n"
          ]
        }
      ]
    },
    {
      "cell_type": "code",
      "source": [
        "# 압축 풀어놓기 (모두 정답데이터라서 훈련데이터로 넣어줌)\n",
        "import zipfile\n",
        "\n",
        "with zipfile.ZipFile(\"/content/gdrive/MyDrive/Colab Notebooks/surface_crack.zip\", \"r\") as target_file:\n",
        "    target_file.extractall(\"/content/gdrive/MyDrive/Colab Notebooks/surface_crack/train\")\n",
        "    \n",
        "# 바로 train데이터로 풀어주었슴"
      ],
      "metadata": {
        "id": "jyt6RxgcZyaI"
      },
      "execution_count": null,
      "outputs": []
    },
    {
      "cell_type": "code",
      "source": [
        "# 파일명 바꿔주기 숫자로 ('Negative'를 00으로 바꿔줌)\n",
        "os.rename(\"/content/gdrive/MyDrive/Colab Notebooks/surface_crack/train/Negative\", \"/content/gdrive/MyDrive/Colab Notebooks/surface_crack/train/00\")\n",
        "\n",
        "os.rename(\"/content/gdrive/MyDrive/Colab Notebooks/surface_crack/train/Positive\", \"/content/gdrive/MyDrive/Colab Notebooks/surface_crack/train/01\")\n"
      ],
      "metadata": {
        "id": "LBTVVWDhiIV1"
      },
      "execution_count": null,
      "outputs": []
    },
    {
      "cell_type": "code",
      "source": [
        "# 훈련데이터의 00(negative)와 01(positive)로 나눔\n",
        "\n",
        "DATA_ROOT_DIR = \"/content/gdrive/MyDrive/Colab Notebooks/surface_crack/train/\"\n",
        "label_name_list = os.listdir(DATA_ROOT_DIR)\n",
        "\n",
        "# label_name_list = 폴더이름이자 정답이름"
      ],
      "metadata": {
        "id": "GsCor1GEaQGk"
      },
      "execution_count": null,
      "outputs": []
    },
    {
      "cell_type": "code",
      "source": [
        "label_name_list"
      ],
      "metadata": {
        "colab": {
          "base_uri": "https://localhost:8080/"
        },
        "id": "7tPpOXINigM5",
        "outputId": "d890ef71-880c-47e5-e1ff-9ebb6f8e8c26"
      },
      "execution_count": null,
      "outputs": [
        {
          "output_type": "execute_result",
          "data": {
            "text/plain": [
              "['00', '01']"
            ]
          },
          "metadata": {},
          "execution_count": 8
        }
      ]
    },
    {
      "cell_type": "code",
      "source": [
        "# test데이터폴터 만들어주기\n",
        "\n",
        "if not os.path.exists(\"/content/gdrive/MyDrive/Colab Notebooks/surface_crack/test\"):\n",
        "    os.mkdir(\"/content/gdrive/MyDrive/Colab Notebooks/surface_crack/test\")\n",
        "    print(\"/content/gdrive/MyDrive/Colab Notebooks/surface_crack/test directory is created\")\n",
        "    \n",
        "    count = 0\n",
        "    for label_name in label_name_list:\n",
        "        os.mkdir(\"/content/gdrive/MyDrive/Colab Notebooks/surface_crack/test/\" + label_name.strip())\n",
        "        print(\"/content/gdrive/MyDrive/Colab Notebooks/surface_crack/test/\" + label_name.strip() + \" is created\")\n",
        "        \n",
        "        count = count + 1\n",
        "        \n",
        "    print(\"총 횟수 : \", count)"
      ],
      "metadata": {
        "colab": {
          "base_uri": "https://localhost:8080/"
        },
        "id": "iKFfbRivgoL4",
        "outputId": "3ffb912d-9cb2-451e-d892-aad3db34d7f1"
      },
      "execution_count": null,
      "outputs": [
        {
          "output_type": "stream",
          "name": "stdout",
          "text": [
            "/content/gdrive/MyDrive/Colab Notebooks/surface_crack/test directory is created\n",
            "/content/gdrive/MyDrive/Colab Notebooks/surface_crack/test/00 is created\n",
            "/content/gdrive/MyDrive/Colab Notebooks/surface_crack/test/01 is created\n",
            "총 횟수 :  2\n"
          ]
        }
      ]
    },
    {
      "cell_type": "code",
      "source": [
        "##### train 데이터에서 비율에 따라 test데이터 분리해주기\n",
        "\n",
        "\n",
        "# 분리 비율 ( 8: 2(테스트) )\n",
        "ratio = 0.2\n",
        "\n",
        "src_root_dir = \"/content/gdrive/MyDrive/Colab Notebooks/surface_crack/train/\"\n",
        "dst_root_dir = \"/content/gdrive/MyDrive/Colab Notebooks/surface_crack/test/\"\n",
        "\n",
        "for label_name in label_name_list:\n",
        "    train_image_file_list = glob.glob(src_root_dir + label_name + \"/*\")\n",
        "    print(\"==========================================================\")\n",
        "    \n",
        "    print(\"total [%s] image file nums => [%s]\"%(label_name, len(train_image_file_list)))\n",
        "    \n",
        "    split_num = int(ratio * len(train_image_file_list))\n",
        "    print(\"분리할 갯수 : \", split_num)\n",
        "    \n",
        "    test_image_file_list = train_image_file_list[0:split_num]\n",
        "    \n",
        "    # move\n",
        "    move_nums = 0\n",
        "    for image_file in test_image_file_list:\n",
        "        shutil.move(image_file, dst_root_dir + label_name)\n",
        "        move_nums = move_nums + 1\n",
        "        \n",
        "    print(\"total move nums => \", move_nums)\n",
        "    print(\"===========================================================\")"
      ],
      "metadata": {
        "colab": {
          "base_uri": "https://localhost:8080/"
        },
        "id": "jcFJZrQWj2G-",
        "outputId": "face0eed-6add-42dc-8b69-1d0d09305f48"
      },
      "execution_count": null,
      "outputs": [
        {
          "output_type": "stream",
          "name": "stdout",
          "text": [
            "==========================================================\n",
            "total [00] image file nums => [20000]\n",
            "분리할 갯수 :  4000\n",
            "total move nums =>  4000\n",
            "===========================================================\n",
            "==========================================================\n",
            "total [01] image file nums => [20000]\n",
            "분리할 갯수 :  4000\n",
            "total move nums =>  4000\n",
            "===========================================================\n"
          ]
        }
      ]
    },
    {
      "cell_type": "code",
      "source": [
        "##### 검증 코드 (실제 test와 train파일이 같은지)\n",
        "\n",
        "src_root_dir = \"/content/gdrive/MyDrive/Colab Notebooks/surface_crack/train/\"\n",
        "dst_root_dir = \"/content/gdrive/MyDrive/Colab Notebooks/surface_crack/test/\"\n",
        "\n",
        "train_label_name_list = os.listdir(src_root_dir)\n",
        "test_label_name_list = os.listdir(dst_root_dir)\n",
        "\n",
        "train_label_name_list.sort()\n",
        "test_label_name_list.sort()\n",
        "\n",
        "if train_label_name_list != test_label_name_list:\n",
        "    print(\"fatal error !\")\n",
        "    \n",
        "else:\n",
        "    print(len(train_label_name_list), len(test_label_name_list))"
      ],
      "metadata": {
        "colab": {
          "base_uri": "https://localhost:8080/"
        },
        "id": "iXcghzLDk4yp",
        "outputId": "28317530-22c2-46b1-ef9e-3433dfe35ada"
      },
      "execution_count": null,
      "outputs": [
        {
          "output_type": "stream",
          "name": "stdout",
          "text": [
            "2 2\n"
          ]
        }
      ]
    },
    {
      "cell_type": "code",
      "source": [
        "## type알아보자\n",
        "\n",
        "print(type(\"/content/gdrive/MyDrive/Colab Notebooks/surface_crack/train\"))"
      ],
      "metadata": {
        "colab": {
          "base_uri": "https://localhost:8080/"
        },
        "id": "WmEPvPoSqHrl",
        "outputId": "341678ef-f43c-4234-d5aa-d9a2347fbe7d"
      },
      "execution_count": null,
      "outputs": [
        {
          "output_type": "stream",
          "name": "stdout",
          "text": [
            "<class 'str'>\n"
          ]
        }
      ]
    },
    {
      "cell_type": "code",
      "source": [
        "##### Train 이미지를 훈련변수에 넣어주기\n",
        "\n",
        "image_list = []\n",
        "label_list = []\n",
        "\n",
        "test_base_dir = \"/content/gdrive/MyDrive/Colab Notebooks/surface_crack/train/\"\n",
        "test_label_list = os.listdir(test_base_dir)\n",
        "\n",
        "\n",
        "# strat_time = datetime.now()\n",
        "for label_name in test_label_list:\n",
        "    file_path = test_base_dir + label_name\n",
        "    img_file_list = glob.glob(file_path + \"/*.jpg\")\n",
        "    \n",
        "    for img_file in img_file_list:\n",
        "        src_img = cv2.imread(img_file, cv2.IMREAD_COLOR)\n",
        "        src_img = cv2.resize(src_img, dsize=(64,64))\n",
        "        src_img = cv2.cvtColor(src_img, cv2.COLOR_BGR2RGB)\n",
        "        \n",
        "        image_list.append(src_img)\n",
        "        label_list.append(float(label_name))\n",
        "        \n",
        "# end_time = datetime.now()\n",
        "# print(\"Elapsed Time : \", end_time - start_time)"
      ],
      "metadata": {
        "id": "NKmFAmGfu4Nx"
      },
      "execution_count": null,
      "outputs": []
    },
    {
      "cell_type": "code",
      "source": [
        "X_train = np.array(image_list)\n",
        "y_train = np.array(label_list)"
      ],
      "metadata": {
        "id": "DuLoFmIHqrTB"
      },
      "execution_count": null,
      "outputs": []
    },
    {
      "cell_type": "code",
      "source": [
        "print(X_train.shape, y_train.shape)"
      ],
      "metadata": {
        "colab": {
          "base_uri": "https://localhost:8080/"
        },
        "id": "-pz1IvSav7VY",
        "outputId": "90b74c0c-6072-41a7-c2a4-dcc287c7fd06"
      },
      "execution_count": null,
      "outputs": [
        {
          "output_type": "stream",
          "name": "stdout",
          "text": [
            "(32000, 64, 64, 3) (32000,)\n"
          ]
        }
      ]
    },
    {
      "cell_type": "code",
      "source": [
        "##### TEST이미지를 테스트변수에 넣어주기\n",
        "\n",
        "image_list = []\n",
        "label_list = []\n",
        "\n",
        "test_base_dir = \"/content/gdrive/MyDrive/Colab Notebooks/surface_crack/test/\"\n",
        "test_label_list = os.listdir(test_base_dir)\n",
        "\n",
        "\n",
        "# strat_time = datetime.now()\n",
        "for label_name in test_label_list:\n",
        "    file_path = test_base_dir + label_name\n",
        "    img_file_list = glob.glob(file_path + \"/*.jpg\")\n",
        "    \n",
        "    for img_file in img_file_list:\n",
        "        src_img = cv2.imread(img_file, cv2.IMREAD_COLOR)\n",
        "        src_img = cv2.resize(src_img, dsize=(64,64))\n",
        "        src_img = cv2.cvtColor(src_img, cv2.COLOR_BGR2RGB)\n",
        "        \n",
        "        image_list.append(src_img)\n",
        "        label_list.append(float(label_name))\n",
        "        \n",
        "# end_time = datetime.now()\n",
        "# print(\"Elapsed Time : \", end_time - start_time)"
      ],
      "metadata": {
        "id": "AoeqdAterY3B"
      },
      "execution_count": null,
      "outputs": []
    },
    {
      "cell_type": "code",
      "source": [
        "# 형식을 이미지 형식으로 변환 (개수, 가로, 세로, )\n",
        "X_test = np.array(image_list)\n",
        "y_test = np.array(label_list)"
      ],
      "metadata": {
        "id": "K8hRxw5OtpUV"
      },
      "execution_count": null,
      "outputs": []
    },
    {
      "cell_type": "code",
      "source": [
        "print(X_test.shape, y_test.shape)\n"
      ],
      "metadata": {
        "colab": {
          "base_uri": "https://localhost:8080/"
        },
        "id": "qJZ_eOHItwOj",
        "outputId": "f4395a0e-eef5-4ab7-e1d4-74b0fe3dc250"
      },
      "execution_count": null,
      "outputs": [
        {
          "output_type": "stream",
          "name": "stdout",
          "text": [
            "(8000, 64, 64, 3) (8000,)\n"
          ]
        }
      ]
    },
    {
      "cell_type": "code",
      "source": [
        "# 모델 설계 cmd cmd fdd (sigmoid, binary)\n",
        "model = Sequential()\n",
        "\n",
        "model.add(Conv2D(kernel_size=3, filters=32, activation=\"relu\", \n",
        "                 padding=\"SAME\", input_shape=(64,64,3)))\n",
        "model.add(MaxPool2D(pool_size=(2,2)))\n",
        "model.add(Dropout(0.25))\n",
        "\n",
        "model.add(Conv2D(kernel_size=3, filters=64, activation=\"relu\", \n",
        "                 padding=\"SAME\",))\n",
        "\n",
        "model.add(MaxPool2D(pool_size=(2,2)))\n",
        "model.add(Dropout(0.25))\n",
        "    \n",
        "model.add(Flatten())\n",
        "\n",
        "model.add(Dense(64, activation='relu'))\n",
        "\n",
        "model.add(Dense(1, activation='sigmoid'))\n",
        "\n",
        "\n",
        "model.compile(loss='binary_crossentropy', optimizer=Adam(learning_rate=0.0001), metrics=[\"accuracy\"])\n",
        "model.summary()"
      ],
      "metadata": {
        "colab": {
          "base_uri": "https://localhost:8080/"
        },
        "id": "YgJ-p1IntzsV",
        "outputId": "18d31c98-6bee-4e63-d582-23bfb11a082a"
      },
      "execution_count": null,
      "outputs": [
        {
          "output_type": "stream",
          "name": "stdout",
          "text": [
            "Model: \"sequential_5\"\n",
            "_________________________________________________________________\n",
            " Layer (type)                Output Shape              Param #   \n",
            "=================================================================\n",
            " conv2d_10 (Conv2D)          (None, 64, 64, 32)        896       \n",
            "                                                                 \n",
            " max_pooling2d_9 (MaxPooling  (None, 32, 32, 32)       0         \n",
            " 2D)                                                             \n",
            "                                                                 \n",
            " dropout_12 (Dropout)        (None, 32, 32, 32)        0         \n",
            "                                                                 \n",
            " conv2d_11 (Conv2D)          (None, 32, 32, 64)        18496     \n",
            "                                                                 \n",
            " max_pooling2d_10 (MaxPoolin  (None, 16, 16, 64)       0         \n",
            " g2D)                                                            \n",
            "                                                                 \n",
            " dropout_13 (Dropout)        (None, 16, 16, 64)        0         \n",
            "                                                                 \n",
            " flatten_5 (Flatten)         (None, 16384)             0         \n",
            "                                                                 \n",
            " dense_8 (Dense)             (None, 64)                1048640   \n",
            "                                                                 \n",
            " dense_9 (Dense)             (None, 1)                 65        \n",
            "                                                                 \n",
            "=================================================================\n",
            "Total params: 1,068,097\n",
            "Trainable params: 1,068,097\n",
            "Non-trainable params: 0\n",
            "_________________________________________________________________\n"
          ]
        }
      ]
    },
    {
      "cell_type": "code",
      "source": [
        "from tensorflow.keras.callbacks import EarlyStopping\n",
        "earlystopping = EarlyStopping(monitor='val_loss', patience=10, verbose=1)\n",
        "\n",
        "model.fit(X_train, y_train, epochs=30, batch_size=100, validation_split=0.2, callbacks=[earlystopping])\n",
        "\n",
        "\n",
        "## loss: 0.0102 - accuracy: 0.9969 - val_loss: 0.0237 - val_accuracy: 0.9930"
      ],
      "metadata": {
        "colab": {
          "base_uri": "https://localhost:8080/"
        },
        "id": "2LVZpdcXwlaO",
        "outputId": "ceb9948a-c1e0-4f80-927e-f39de7065664"
      },
      "execution_count": null,
      "outputs": [
        {
          "output_type": "stream",
          "name": "stdout",
          "text": [
            "Epoch 1/30\n",
            "256/256 [==============================] - 4s 15ms/step - loss: 3.7116 - accuracy: 0.6642 - val_loss: 7.1895 - val_accuracy: 0.1419\n",
            "Epoch 2/30\n",
            "256/256 [==============================] - 4s 14ms/step - loss: 0.4473 - accuracy: 0.9075 - val_loss: 1.7609 - val_accuracy: 0.6475\n",
            "Epoch 3/30\n",
            "256/256 [==============================] - 4s 14ms/step - loss: 0.1804 - accuracy: 0.9542 - val_loss: 0.3758 - val_accuracy: 0.8569\n",
            "Epoch 4/30\n",
            "256/256 [==============================] - 4s 14ms/step - loss: 0.1001 - accuracy: 0.9688 - val_loss: 0.3154 - val_accuracy: 0.8986\n",
            "Epoch 5/30\n",
            "256/256 [==============================] - 4s 15ms/step - loss: 0.0787 - accuracy: 0.9752 - val_loss: 0.3128 - val_accuracy: 0.9002\n",
            "Epoch 6/30\n",
            "256/256 [==============================] - 4s 14ms/step - loss: 0.0666 - accuracy: 0.9781 - val_loss: 0.2157 - val_accuracy: 0.9273\n",
            "Epoch 7/30\n",
            "256/256 [==============================] - 4s 15ms/step - loss: 0.0526 - accuracy: 0.9824 - val_loss: 0.1746 - val_accuracy: 0.9459\n",
            "Epoch 8/30\n",
            "256/256 [==============================] - 4s 14ms/step - loss: 0.0473 - accuracy: 0.9851 - val_loss: 0.1491 - val_accuracy: 0.9541\n",
            "Epoch 9/30\n",
            "256/256 [==============================] - 4s 14ms/step - loss: 0.0433 - accuracy: 0.9865 - val_loss: 0.1338 - val_accuracy: 0.9542\n",
            "Epoch 10/30\n",
            "256/256 [==============================] - 4s 14ms/step - loss: 0.0362 - accuracy: 0.9882 - val_loss: 0.1206 - val_accuracy: 0.9556\n",
            "Epoch 11/30\n",
            "256/256 [==============================] - 4s 15ms/step - loss: 0.0315 - accuracy: 0.9898 - val_loss: 0.1363 - val_accuracy: 0.9513\n",
            "Epoch 12/30\n",
            "256/256 [==============================] - 4s 14ms/step - loss: 0.0275 - accuracy: 0.9914 - val_loss: 0.0839 - val_accuracy: 0.9723\n",
            "Epoch 13/30\n",
            "256/256 [==============================] - 4s 14ms/step - loss: 0.0238 - accuracy: 0.9925 - val_loss: 0.1117 - val_accuracy: 0.9602\n",
            "Epoch 14/30\n",
            "256/256 [==============================] - 4s 14ms/step - loss: 0.0233 - accuracy: 0.9929 - val_loss: 0.0704 - val_accuracy: 0.9741\n",
            "Epoch 15/30\n",
            "256/256 [==============================] - 4s 14ms/step - loss: 0.0208 - accuracy: 0.9937 - val_loss: 0.0867 - val_accuracy: 0.9689\n",
            "Epoch 16/30\n",
            "256/256 [==============================] - 4s 15ms/step - loss: 0.0190 - accuracy: 0.9941 - val_loss: 0.0750 - val_accuracy: 0.9722\n",
            "Epoch 17/30\n",
            "256/256 [==============================] - 4s 14ms/step - loss: 0.0214 - accuracy: 0.9937 - val_loss: 0.0471 - val_accuracy: 0.9839\n",
            "Epoch 18/30\n",
            "256/256 [==============================] - 4s 14ms/step - loss: 0.0182 - accuracy: 0.9947 - val_loss: 0.0486 - val_accuracy: 0.9844\n",
            "Epoch 19/30\n",
            "256/256 [==============================] - 4s 15ms/step - loss: 0.0171 - accuracy: 0.9949 - val_loss: 0.0392 - val_accuracy: 0.9870\n",
            "Epoch 20/30\n",
            "256/256 [==============================] - 4s 14ms/step - loss: 0.0153 - accuracy: 0.9951 - val_loss: 0.0410 - val_accuracy: 0.9864\n",
            "Epoch 21/30\n",
            "256/256 [==============================] - 4s 14ms/step - loss: 0.0165 - accuracy: 0.9948 - val_loss: 0.0392 - val_accuracy: 0.9869\n",
            "Epoch 22/30\n",
            "256/256 [==============================] - 4s 14ms/step - loss: 0.0146 - accuracy: 0.9951 - val_loss: 0.0237 - val_accuracy: 0.9922\n",
            "Epoch 23/30\n",
            "256/256 [==============================] - 4s 14ms/step - loss: 0.0142 - accuracy: 0.9957 - val_loss: 0.0379 - val_accuracy: 0.9878\n",
            "Epoch 24/30\n",
            "256/256 [==============================] - 4s 14ms/step - loss: 0.0123 - accuracy: 0.9957 - val_loss: 0.0657 - val_accuracy: 0.9772\n",
            "Epoch 25/30\n",
            "256/256 [==============================] - 4s 14ms/step - loss: 0.0158 - accuracy: 0.9949 - val_loss: 0.0161 - val_accuracy: 0.9945\n",
            "Epoch 26/30\n",
            "256/256 [==============================] - 4s 15ms/step - loss: 0.0137 - accuracy: 0.9954 - val_loss: 0.0285 - val_accuracy: 0.9912\n",
            "Epoch 27/30\n",
            "256/256 [==============================] - 4s 14ms/step - loss: 0.0122 - accuracy: 0.9954 - val_loss: 0.0414 - val_accuracy: 0.9869\n",
            "Epoch 28/30\n",
            "256/256 [==============================] - 4s 15ms/step - loss: 0.0118 - accuracy: 0.9964 - val_loss: 0.0460 - val_accuracy: 0.9853\n",
            "Epoch 29/30\n",
            "256/256 [==============================] - 4s 14ms/step - loss: 0.0135 - accuracy: 0.9960 - val_loss: 0.0281 - val_accuracy: 0.9916\n",
            "Epoch 30/30\n",
            "256/256 [==============================] - 4s 15ms/step - loss: 0.0102 - accuracy: 0.9969 - val_loss: 0.0237 - val_accuracy: 0.9930\n"
          ]
        },
        {
          "output_type": "execute_result",
          "data": {
            "text/plain": [
              "<keras.callbacks.History at 0x7f753422dfa0>"
            ]
          },
          "metadata": {},
          "execution_count": 33
        }
      ]
    },
    {
      "cell_type": "code",
      "source": [
        "model.evaluate(X_test, y_test)\n",
        "\n",
        "# [0.009097831323742867, 0.996999979019165]"
      ],
      "metadata": {
        "id": "pmOmAbAkwqrM",
        "colab": {
          "base_uri": "https://localhost:8080/"
        },
        "outputId": "b127066e-6ffe-49e2-c3da-ae2217b82007"
      },
      "execution_count": null,
      "outputs": [
        {
          "output_type": "stream",
          "name": "stdout",
          "text": [
            "250/250 [==============================] - 1s 4ms/step - loss: 0.0091 - accuracy: 0.9970\n"
          ]
        },
        {
          "output_type": "execute_result",
          "data": {
            "text/plain": [
              "[0.009097831323742867, 0.996999979019165]"
            ]
          },
          "metadata": {},
          "execution_count": 34
        }
      ]
    },
    {
      "cell_type": "code",
      "source": [],
      "metadata": {
        "id": "YO-SAZEnGrSi"
      },
      "execution_count": null,
      "outputs": []
    }
  ]
}